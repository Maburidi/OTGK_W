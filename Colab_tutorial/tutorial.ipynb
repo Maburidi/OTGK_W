{
  "nbformat": 4,
  "nbformat_minor": 0,
  "metadata": {
    "colab": {
      "provenance": []
    },
    "kernelspec": {
      "name": "python3",
      "display_name": "Python 3"
    },
    "language_info": {
      "name": "python"
    }
  },
  "cells": [
    {
      "cell_type": "code",
      "execution_count": 26,
      "metadata": {
        "colab": {
          "base_uri": "https://localhost:8080/"
        },
        "id": "cA2P7t46JFZo",
        "outputId": "bac5702a-25f7-432e-e135-80630a3fead2"
      },
      "outputs": [
        {
          "output_type": "stream",
          "name": "stdout",
          "text": [
            "Cloning into 'OTGK_W'...\n",
            "remote: Enumerating objects: 132, done.\u001b[K\n",
            "remote: Counting objects: 100% (132/132), done.\u001b[K\n",
            "remote: Compressing objects: 100% (80/80), done.\u001b[K\n",
            "remote: Total 132 (delta 77), reused 101 (delta 49), pack-reused 0\u001b[K\n",
            "Receiving objects: 100% (132/132), 2.70 MiB | 7.93 MiB/s, done.\n",
            "Resolving deltas: 100% (77/77), done.\n"
          ]
        }
      ],
      "source": [
        "import shutil\n",
        "import os, sys\n",
        "\n",
        "shutil.rmtree('/content/OTGK_W', ignore_errors=True)\n",
        "\n",
        "!git clone https://github.com/Maburidi/OTGK_W.git\n",
        "\n",
        "sys.path.insert(0,'/content/OTGK_W/')\n"
      ]
    },
    {
      "cell_type": "code",
      "source": [
        "!bash OTGK_W/install_dependencies.sh             # install dependencies\n"
      ],
      "metadata": {
        "colab": {
          "base_uri": "https://localhost:8080/"
        },
        "id": "m1NXN48eJK8d",
        "outputId": "0af7c4a9-6558-4862-dfa7-78bf576c8f7e"
      },
      "execution_count": 2,
      "outputs": [
        {
          "output_type": "stream",
          "name": "stdout",
          "text": [
            "Requirement already satisfied: POT in /usr/local/lib/python3.10/dist-packages (0.9.1)\n",
            "Requirement already satisfied: numpy>=1.16 in /usr/local/lib/python3.10/dist-packages (from POT) (1.23.5)\n",
            "Requirement already satisfied: scipy>=1.0 in /usr/local/lib/python3.10/dist-packages (from POT) (1.11.4)\n"
          ]
        }
      ]
    },
    {
      "cell_type": "code",
      "source": [
        "!python OTGK_W/main.py            # run main\n"
      ],
      "metadata": {
        "id": "hxiqxzTPLplq"
      },
      "execution_count": 28,
      "outputs": []
    },
    {
      "cell_type": "code",
      "source": [],
      "metadata": {
        "id": "_0-KldSNQvFc"
      },
      "execution_count": 22,
      "outputs": []
    },
    {
      "cell_type": "code",
      "source": [],
      "metadata": {
        "id": "vf1zwebPTEqf"
      },
      "execution_count": 6,
      "outputs": []
    },
    {
      "cell_type": "code",
      "source": [],
      "metadata": {
        "id": "XDU1KlTIR3xN"
      },
      "execution_count": 54,
      "outputs": []
    },
    {
      "cell_type": "code",
      "source": [
        "\n",
        "\n"
      ],
      "metadata": {
        "id": "dkUKA6txUH1p"
      },
      "execution_count": 7,
      "outputs": []
    },
    {
      "cell_type": "code",
      "source": [],
      "metadata": {
        "id": "CKZnSN3kV4QX"
      },
      "execution_count": 5,
      "outputs": []
    },
    {
      "cell_type": "code",
      "source": [],
      "metadata": {
        "id": "l6gYyJCXbe8j"
      },
      "execution_count": 6,
      "outputs": []
    }
  ]
}